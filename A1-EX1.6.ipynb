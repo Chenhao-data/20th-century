{
 "cells": [
  {
   "cell_type": "markdown",
   "id": "df57e7c1-343c-4a5d-9559-18eafb8b2fd3",
   "metadata": {},
   "source": [
    "# Install the necessary libraries"
   ]
  },
  {
   "cell_type": "code",
   "execution_count": 1,
   "id": "39067a60-dce9-4938-ae78-60a02d86ce03",
   "metadata": {},
   "outputs": [],
   "source": [
    "import pandas as pd\n",
    "import numpy as np\n",
    "import spacy\n",
    "from spacy import displacy\n",
    "import networkx as nx\n",
    "import os\n",
    "import matplotlib.pyplot as plt\n",
    "import scipy\n",
    "import re"
   ]
  },
  {
   "cell_type": "code",
   "execution_count": 2,
   "id": "3f345d33-dff9-499b-9bb9-00ba8c3a7fee",
   "metadata": {
    "collapsed": true,
    "jupyter": {
     "outputs_hidden": true
    },
    "tags": []
   },
   "outputs": [
    {
     "name": "stdout",
     "output_type": "stream",
     "text": [
      "Collecting en-core-web-sm==3.7.1\n",
      "  Downloading https://github.com/explosion/spacy-models/releases/download/en_core_web_sm-3.7.1/en_core_web_sm-3.7.1-py3-none-any.whl (12.8 MB)\n",
      "     ---------------------------------------- 0.0/12.8 MB ? eta -:--:--\n",
      "     --------------------------------------- 0.0/12.8 MB 660.6 kB/s eta 0:00:20\n",
      "      --------------------------------------- 0.3/12.8 MB 2.9 MB/s eta 0:00:05\n",
      "     --- ------------------------------------ 1.1/12.8 MB 8.5 MB/s eta 0:00:02\n",
      "     ------ --------------------------------- 2.1/12.8 MB 12.4 MB/s eta 0:00:01\n",
      "     ---------- ----------------------------- 3.5/12.8 MB 15.9 MB/s eta 0:00:01\n",
      "     --------------- ------------------------ 4.9/12.8 MB 18.3 MB/s eta 0:00:01\n",
      "     ------------------- -------------------- 6.3/12.8 MB 20.0 MB/s eta 0:00:01\n",
      "     ------------------------ --------------- 7.8/12.8 MB 21.5 MB/s eta 0:00:01\n",
      "     ----------------------------- ---------- 9.6/12.8 MB 23.5 MB/s eta 0:00:01\n",
      "     --------------------------------- ----- 11.0/12.8 MB 29.7 MB/s eta 0:00:01\n",
      "     ------------------------------------- - 12.3/12.8 MB 29.7 MB/s eta 0:00:01\n",
      "     --------------------------------------- 12.8/12.8 MB 28.5 MB/s eta 0:00:00\n",
      "Requirement already satisfied: spacy<3.8.0,>=3.7.2 in d:\\anaconda3\\envs\\20th_century\\lib\\site-packages (from en-core-web-sm==3.7.1) (3.7.5)\n",
      "Requirement already satisfied: spacy-legacy<3.1.0,>=3.0.11 in d:\\anaconda3\\envs\\20th_century\\lib\\site-packages (from spacy<3.8.0,>=3.7.2->en-core-web-sm==3.7.1) (3.0.12)\n",
      "Requirement already satisfied: spacy-loggers<2.0.0,>=1.0.0 in d:\\anaconda3\\envs\\20th_century\\lib\\site-packages (from spacy<3.8.0,>=3.7.2->en-core-web-sm==3.7.1) (1.0.5)\n",
      "Requirement already satisfied: murmurhash<1.1.0,>=0.28.0 in d:\\anaconda3\\envs\\20th_century\\lib\\site-packages (from spacy<3.8.0,>=3.7.2->en-core-web-sm==3.7.1) (1.0.10)\n",
      "Requirement already satisfied: cymem<2.1.0,>=2.0.2 in d:\\anaconda3\\envs\\20th_century\\lib\\site-packages (from spacy<3.8.0,>=3.7.2->en-core-web-sm==3.7.1) (2.0.8)\n",
      "Requirement already satisfied: preshed<3.1.0,>=3.0.2 in d:\\anaconda3\\envs\\20th_century\\lib\\site-packages (from spacy<3.8.0,>=3.7.2->en-core-web-sm==3.7.1) (3.0.9)\n",
      "Requirement already satisfied: thinc<8.3.0,>=8.2.2 in d:\\anaconda3\\envs\\20th_century\\lib\\site-packages (from spacy<3.8.0,>=3.7.2->en-core-web-sm==3.7.1) (8.2.5)\n",
      "Requirement already satisfied: wasabi<1.2.0,>=0.9.1 in d:\\anaconda3\\envs\\20th_century\\lib\\site-packages (from spacy<3.8.0,>=3.7.2->en-core-web-sm==3.7.1) (1.1.3)\n",
      "Requirement already satisfied: srsly<3.0.0,>=2.4.3 in d:\\anaconda3\\envs\\20th_century\\lib\\site-packages (from spacy<3.8.0,>=3.7.2->en-core-web-sm==3.7.1) (2.4.8)\n",
      "Requirement already satisfied: catalogue<2.1.0,>=2.0.6 in d:\\anaconda3\\envs\\20th_century\\lib\\site-packages (from spacy<3.8.0,>=3.7.2->en-core-web-sm==3.7.1) (2.0.10)\n",
      "Requirement already satisfied: weasel<0.5.0,>=0.1.0 in d:\\anaconda3\\envs\\20th_century\\lib\\site-packages (from spacy<3.8.0,>=3.7.2->en-core-web-sm==3.7.1) (0.4.1)\n",
      "Requirement already satisfied: typer<1.0.0,>=0.3.0 in d:\\anaconda3\\envs\\20th_century\\lib\\site-packages (from spacy<3.8.0,>=3.7.2->en-core-web-sm==3.7.1) (0.12.3)\n",
      "Requirement already satisfied: tqdm<5.0.0,>=4.38.0 in d:\\anaconda3\\envs\\20th_century\\lib\\site-packages (from spacy<3.8.0,>=3.7.2->en-core-web-sm==3.7.1) (4.66.5)\n",
      "Requirement already satisfied: requests<3.0.0,>=2.13.0 in d:\\anaconda3\\envs\\20th_century\\lib\\site-packages (from spacy<3.8.0,>=3.7.2->en-core-web-sm==3.7.1) (2.32.3)\n",
      "Requirement already satisfied: pydantic!=1.8,!=1.8.1,<3.0.0,>=1.7.4 in d:\\anaconda3\\envs\\20th_century\\lib\\site-packages (from spacy<3.8.0,>=3.7.2->en-core-web-sm==3.7.1) (2.8.2)\n",
      "Requirement already satisfied: jinja2 in d:\\anaconda3\\envs\\20th_century\\lib\\site-packages (from spacy<3.8.0,>=3.7.2->en-core-web-sm==3.7.1) (3.1.4)\n",
      "Requirement already satisfied: setuptools in d:\\anaconda3\\envs\\20th_century\\lib\\site-packages (from spacy<3.8.0,>=3.7.2->en-core-web-sm==3.7.1) (72.1.0)\n",
      "Requirement already satisfied: packaging>=20.0 in d:\\anaconda3\\envs\\20th_century\\lib\\site-packages (from spacy<3.8.0,>=3.7.2->en-core-web-sm==3.7.1) (24.1)\n",
      "Requirement already satisfied: langcodes<4.0.0,>=3.2.0 in d:\\anaconda3\\envs\\20th_century\\lib\\site-packages (from spacy<3.8.0,>=3.7.2->en-core-web-sm==3.7.1) (3.4.0)\n",
      "Requirement already satisfied: numpy>=1.19.0 in d:\\anaconda3\\envs\\20th_century\\lib\\site-packages (from spacy<3.8.0,>=3.7.2->en-core-web-sm==3.7.1) (1.26.4)\n",
      "Requirement already satisfied: language-data>=1.2 in d:\\anaconda3\\envs\\20th_century\\lib\\site-packages (from langcodes<4.0.0,>=3.2.0->spacy<3.8.0,>=3.7.2->en-core-web-sm==3.7.1) (1.2.0)\n",
      "Requirement already satisfied: annotated-types>=0.4.0 in d:\\anaconda3\\envs\\20th_century\\lib\\site-packages (from pydantic!=1.8,!=1.8.1,<3.0.0,>=1.7.4->spacy<3.8.0,>=3.7.2->en-core-web-sm==3.7.1) (0.7.0)\n",
      "Requirement already satisfied: pydantic-core==2.20.1 in d:\\anaconda3\\envs\\20th_century\\lib\\site-packages (from pydantic!=1.8,!=1.8.1,<3.0.0,>=1.7.4->spacy<3.8.0,>=3.7.2->en-core-web-sm==3.7.1) (2.20.1)\n",
      "Requirement already satisfied: typing-extensions>=4.6.1 in d:\\anaconda3\\envs\\20th_century\\lib\\site-packages (from pydantic!=1.8,!=1.8.1,<3.0.0,>=1.7.4->spacy<3.8.0,>=3.7.2->en-core-web-sm==3.7.1) (4.12.2)\n",
      "Requirement already satisfied: charset-normalizer<4,>=2 in d:\\anaconda3\\envs\\20th_century\\lib\\site-packages (from requests<3.0.0,>=2.13.0->spacy<3.8.0,>=3.7.2->en-core-web-sm==3.7.1) (3.3.2)\n",
      "Requirement already satisfied: idna<4,>=2.5 in d:\\anaconda3\\envs\\20th_century\\lib\\site-packages (from requests<3.0.0,>=2.13.0->spacy<3.8.0,>=3.7.2->en-core-web-sm==3.7.1) (3.7)\n",
      "Requirement already satisfied: urllib3<3,>=1.21.1 in d:\\anaconda3\\envs\\20th_century\\lib\\site-packages (from requests<3.0.0,>=2.13.0->spacy<3.8.0,>=3.7.2->en-core-web-sm==3.7.1) (2.2.2)\n",
      "Requirement already satisfied: certifi>=2017.4.17 in d:\\anaconda3\\envs\\20th_century\\lib\\site-packages (from requests<3.0.0,>=2.13.0->spacy<3.8.0,>=3.7.2->en-core-web-sm==3.7.1) (2024.7.4)\n",
      "Requirement already satisfied: blis<0.8.0,>=0.7.8 in d:\\anaconda3\\envs\\20th_century\\lib\\site-packages (from thinc<8.3.0,>=8.2.2->spacy<3.8.0,>=3.7.2->en-core-web-sm==3.7.1) (0.7.11)\n",
      "Requirement already satisfied: confection<1.0.0,>=0.0.1 in d:\\anaconda3\\envs\\20th_century\\lib\\site-packages (from thinc<8.3.0,>=8.2.2->spacy<3.8.0,>=3.7.2->en-core-web-sm==3.7.1) (0.1.5)\n",
      "Requirement already satisfied: colorama in d:\\anaconda3\\envs\\20th_century\\lib\\site-packages (from tqdm<5.0.0,>=4.38.0->spacy<3.8.0,>=3.7.2->en-core-web-sm==3.7.1) (0.4.6)\n",
      "Requirement already satisfied: click>=8.0.0 in d:\\anaconda3\\envs\\20th_century\\lib\\site-packages (from typer<1.0.0,>=0.3.0->spacy<3.8.0,>=3.7.2->en-core-web-sm==3.7.1) (8.1.7)\n",
      "Requirement already satisfied: shellingham>=1.3.0 in d:\\anaconda3\\envs\\20th_century\\lib\\site-packages (from typer<1.0.0,>=0.3.0->spacy<3.8.0,>=3.7.2->en-core-web-sm==3.7.1) (1.5.4)\n",
      "Requirement already satisfied: rich>=10.11.0 in d:\\anaconda3\\envs\\20th_century\\lib\\site-packages (from typer<1.0.0,>=0.3.0->spacy<3.8.0,>=3.7.2->en-core-web-sm==3.7.1) (13.7.1)\n",
      "Requirement already satisfied: cloudpathlib<1.0.0,>=0.7.0 in d:\\anaconda3\\envs\\20th_century\\lib\\site-packages (from weasel<0.5.0,>=0.1.0->spacy<3.8.0,>=3.7.2->en-core-web-sm==3.7.1) (0.18.1)\n",
      "Requirement already satisfied: smart-open<8.0.0,>=5.2.1 in d:\\anaconda3\\envs\\20th_century\\lib\\site-packages (from weasel<0.5.0,>=0.1.0->spacy<3.8.0,>=3.7.2->en-core-web-sm==3.7.1) (7.0.4)\n",
      "Requirement already satisfied: MarkupSafe>=2.0 in d:\\anaconda3\\envs\\20th_century\\lib\\site-packages (from jinja2->spacy<3.8.0,>=3.7.2->en-core-web-sm==3.7.1) (2.1.5)\n",
      "Requirement already satisfied: marisa-trie>=0.7.7 in d:\\anaconda3\\envs\\20th_century\\lib\\site-packages (from language-data>=1.2->langcodes<4.0.0,>=3.2.0->spacy<3.8.0,>=3.7.2->en-core-web-sm==3.7.1) (1.2.0)\n",
      "Requirement already satisfied: markdown-it-py>=2.2.0 in d:\\anaconda3\\envs\\20th_century\\lib\\site-packages (from rich>=10.11.0->typer<1.0.0,>=0.3.0->spacy<3.8.0,>=3.7.2->en-core-web-sm==3.7.1) (3.0.0)\n",
      "Requirement already satisfied: pygments<3.0.0,>=2.13.0 in d:\\anaconda3\\envs\\20th_century\\lib\\site-packages (from rich>=10.11.0->typer<1.0.0,>=0.3.0->spacy<3.8.0,>=3.7.2->en-core-web-sm==3.7.1) (2.15.1)\n",
      "Requirement already satisfied: wrapt in d:\\anaconda3\\envs\\20th_century\\lib\\site-packages (from smart-open<8.0.0,>=5.2.1->weasel<0.5.0,>=0.1.0->spacy<3.8.0,>=3.7.2->en-core-web-sm==3.7.1) (1.16.0)\n",
      "Requirement already satisfied: mdurl~=0.1 in d:\\anaconda3\\envs\\20th_century\\lib\\site-packages (from markdown-it-py>=2.2.0->rich>=10.11.0->typer<1.0.0,>=0.3.0->spacy<3.8.0,>=3.7.2->en-core-web-sm==3.7.1) (0.1.2)\n",
      "\u001b[38;5;2m[+] Download and installation successful\u001b[0m\n",
      "You can now load the package via spacy.load('en_core_web_sm')\n"
     ]
    }
   ],
   "source": [
    "# Download English module\n",
    "\n",
    "!python -m spacy download en_core_web_sm"
   ]
  },
  {
   "cell_type": "code",
   "execution_count": 3,
   "id": "c4c855f6-f898-42fd-9c9a-8f25dd52e6ac",
   "metadata": {},
   "outputs": [],
   "source": [
    "# Load spacy English module\n",
    "\n",
    "NER = spacy.load(\"en_core_web_sm\")"
   ]
  },
  {
   "cell_type": "markdown",
   "id": "707b12a0-44b1-48c2-87c1-7e072c0b6e91",
   "metadata": {},
   "source": [
    "# Load the twentieth-century text file"
   ]
  },
  {
   "cell_type": "code",
   "execution_count": 4,
   "id": "3c283331-1f30-40e1-a241-99175cae2f70",
   "metadata": {},
   "outputs": [],
   "source": [
    "with open('Key_Events_of_the_20th_Century_Wiki.txt', 'r', errors='ignore') as file:\n",
    "    data = file.read().replace('\\n', '')"
   ]
  },
  {
   "cell_type": "markdown",
   "id": "ab8b566b-38a6-4bc1-ad01-47fb258f1cbd",
   "metadata": {},
   "source": [
    "# Use the text file to create a NER object"
   ]
  },
  {
   "cell_type": "code",
   "execution_count": 5,
   "id": "5addb97c-d854-436a-9949-4272fe2cb510",
   "metadata": {},
   "outputs": [],
   "source": [
    "book = NER(data)"
   ]
  },
  {
   "cell_type": "markdown",
   "id": "a554ca38-aad2-4d94-abb2-0f32adffc0dc",
   "metadata": {},
   "source": [
    "# Evaluate whether the text needs wrangling"
   ]
  },
  {
   "cell_type": "code",
   "execution_count": 6,
   "id": "1254bf65-bdcc-45f6-8a75-c0bf86509b9d",
   "metadata": {},
   "outputs": [
    {
     "name": "stdout",
     "output_type": "stream",
     "text": [
      "{'USSR', 'Australia', 'Berlin', 'North', 'Austria-Hungary', 'Nanjing', 'Guadalcanal', 'Tobruk', 'Philippines', \"the People's Republic of Bangladesh\", 'Burma', 'Iran', 'Operation Overlord', 'France', 'the Ottoman Empire', 'Romania', 'Iraq', 'Nazi Germany', 'Stalingrad', 'Saigon', 'Neville', 'Vietnam', 'Saint Petersburg', 'Egypt', 'London', 'North Africa', 'Nuremberg', 'Papua New Guinea', 'Ghana', 'Stephen', 'Moscow', 'Lithuania', 'Finland', 'Eastern Poland', 'Koreas', 'Britain', 'the Solomon Islands', 'Italy', 'Warsaw', 'Munich', 'Poland', 'war.[151]Nuclear', 'Yugoslavia', 'Algeria', 'Austria', 'Persia', 'Sweden', 'Stalin', 'Hungary', \"North Korea's\", 'Thailand', 'Hiroshima', 'Solomon Islands', 'Roma', 'British Empire', 'United States', 'The Soviet State', 'Hawaii', 'East Berlin', 'New Orleans', 'Rome', 'Gravel', 'Wikipedia', 'India', 'Tokyo', 'Norway', 'Cuba', 'USA', 'Italian Social Republic', 'Cambodia', 'Bolsheviks', 'Hong Kong', 'Soviet Union', 'South Korea', 'Antonia', 'New states', 'Yalta', 'Spain', 'Untermensch', 'Herrenvolk', 'New York', 'Luxembourg', 'Leningrad', 'Germany', 'Great Britain', 'Los Alamos', 'the Soviet Union', 'the United Kingdom', 'Boston', 'Prague', 'East Germany', 'Singapore', 'Virginia', \"People's Republic of China\", 'Pakistan', 'Laos', 'Wylie', 'Vietnam.[191]The', 'Estonia', 'New Mexico', 'U.S.S.R.', 'West Virginia', 'Malaya', 'Nagasaki', 'Clusterfuck', 'Vienna', 'Alfredo', 'Belgium', 'Tayyab', 'Greece', 'Ukraine', 'the British Empire', 'North Korea', 'Battle', 'Canada', 'New Guinea', 'Europe:[185]From Stettin', 'Manhattan', \"the People's Republic of China.[225\", 'Czechoslovakia', 'Belarus', 'Bilski', 'Wannsee', 'Charlottesville', 'Changsha', \"the Soviet Union's\", 'Lebanon', 'Kinzer', 'Print', 'Serwadda', 'The Netherlands', 'America', 'Japan', 'the American States During', 'Manchuria', 'Hasic', 'Tsar', 'Wake Island', 'Chongqing', 'Seychelles', 'Amanda', 'THE SOVIET UNION', 'US', 'Catherwood', 'Kenya', 'Buchenwald', 'Albania', 'Kyoto', 'Goldstein', 'site.[80]U.S.', 'Vietnam.[175]In Africa', 'Long', 'Belgrade', 'China', 'Guangxi', 'Gemini', 'Morocco', 'Guam', 'Indochina', 'Mongolia', 'Paris', 'Korea', 'The Soviet Union', 'Budapest', 'Potsdam', 'Russia', 'Bulgaria', 'Letter', 'Netherlands', 'Shanghai', 'Depth', 'Israel', 'Released', 'U.S.', 'the United States', 'Sarajevo', '1942â€“1944', 'Angola', 'Omaha Beach', 'South Africa', 'Libya', 'Denmark', 'Latvia', 'West Germany', 'The United States', 'Kellaway', 'Hyde', 'San Francisco.[169]'}\n"
     ]
    }
   ],
   "source": [
    "# Extract Country Names:\n",
    "country_entities = [ent.text for ent in book.ents if ent.label_ == \"GPE\"]\n",
    "\n",
    "# Print the identified country names\n",
    "print(set(country_entities))"
   ]
  },
  {
   "cell_type": "markdown",
   "id": "9b61a95d-b9d7-43f9-8bd9-995c2ac4c65f",
   "metadata": {},
   "source": [
    "Based on my observations, the following changes will be made:\n",
    "\n",
    "Replace 'USA', 'US', 'U.S.' in the text with 'The United States'.\n",
    "\n",
    "Replace 'USSR' with 'Russia'.\n",
    "\n",
    "Add 'Soviet Union' to the list of countries."
   ]
  },
  {
   "cell_type": "code",
   "execution_count": 7,
   "id": "45150779-bec7-4f83-9e41-e64487403e88",
   "metadata": {},
   "outputs": [],
   "source": [
    "# Create a manual corrections dictionary\n",
    "manual_corrections = {\n",
    "    \"USA\": \"United States\",\n",
    "    \"US\": \"United States\",\n",
    "    \"U.S.\": \"United States\",\n",
    "    \"U.S.S.R.\": \"Russia\",\n",
    "  \n",
    "}"
   ]
  },
  {
   "cell_type": "code",
   "execution_count": 8,
   "id": "679724aa-c36b-4e94-aa50-212dc71993e2",
   "metadata": {},
   "outputs": [],
   "source": [
    "corrected_data = data\n",
    "for ent in book.ents:\n",
    "    if ent.label_ == \"GPE\":\n",
    "        if ent.text in manual_corrections:\n",
    "            corrected_data = corrected_data.replace(ent.text, manual_corrections[ent.text])\n"
   ]
  },
  {
   "cell_type": "code",
   "execution_count": 9,
   "id": "fc84e34e-2706-4370-8244-ac7b18e1077f",
   "metadata": {},
   "outputs": [],
   "source": [
    "corrected_book = NER(corrected_data)"
   ]
  },
  {
   "cell_type": "code",
   "execution_count": 10,
   "id": "d7892d6b-6f74-4082-9a60-c354d250e6de",
   "metadata": {},
   "outputs": [
    {
     "name": "stdout",
     "output_type": "stream",
     "text": [
      "{'North', 'Australia', 'Berlin', 'Austria-Hungary', 'Nanjing', 'Guadalcanal', 'Tobruk', 'Philippines', \"the People's Republic of Bangladesh\", 'Burma', 'Iran', 'Operation Overlord', 'France', 'the Ottoman Empire', 'Romania', 'Iraq', 'Nazi Germany', 'Stalingrad', 'Saigon', 'Neville', 'Vietnam', 'Saint Petersburg', 'Egypt', 'London', 'North Africa', 'Nuremberg', 'Papua New Guinea', 'Ghana', 'Stephen', 'Moscow', 'Lithuania', 'Finland', 'Eastern Poland', 'Koreas', 'Britain', 'the Solomon Islands', 'Italy', 'Warsaw', 'Munich', 'Poland', 'war.[151]Nuclear', 'Yugoslavia', 'Algeria', 'Austria', 'States', 'Persia', 'Sweden', 'Stalin', 'Hungary', \"North Korea's\", 'Thailand', 'Hiroshima', 'Solomon Islands', 'Roma', 'United States', 'British Empire', 'The Soviet State', 'Hawaii', 'East Berlin', 'New Orleans', 'Rome', 'Gravel', 'Wikipedia', 'India', 'Tokyo', 'Norway', 'Cuba', 'Italian Social Republic', 'Cambodia', 'Bolsheviks', 'Hong Kong', 'Soviet Union', 'South Korea', 'Antonia', 'New states', 'Yalta', 'Spain', 'Untermensch', 'Herrenvolk', 'New York', 'Luxembourg', 'Leningrad', 'Germany', 'Great Britain', 'Los Alamos', 'the Soviet Union', 'the United Kingdom', 'Boston', 'Prague', 'East Germany', 'Singapore', 'Virginia', \"People's Republic of China\", 'Pakistan', 'Laos', 'Wylie', 'Vietnam.[191]The', 'Estonia', 'New Mexico', 'West Virginia', 'Malaya', 'Nagasaki', 'Clusterfuck', 'Vienna', 'Alfredo', 'Belgium', 'Tayyab', 'Greece', 'Ukraine', 'the British Empire', 'North Korea', 'Battle', 'Canada', 'the United StatesS.R.', 'New Guinea', 'Europe:[185]From Stettin', 'Manhattan', \"the People's Republic of China.[225\", 'Czechoslovakia', 'Belarus', 'Bilski', 'Wannsee', 'Charlottesville', 'Changsha', \"the Soviet Union's\", 'Lebanon', 'Kinzer', 'Print', 'Serwadda', 'The Netherlands', 'America', 'Japan', 'the American States During', 'Manchuria', 'Hasic', 'Tsar', 'Wake Island', 'Chongqing', 'Seychelles', 'Amanda', 'THE SOVIET UNION', 'Catherwood', 'Kenya', 'Buchenwald', 'Albania', 'Kyoto', 'The United States Invasion of Italy', 'Goldstein', 'Vietnam.[175]In Africa', 'Long', 'Belgrade', 'China', 'Guangxi', 'Gemini', 'Morocco', 'Guam', 'Indochina', 'Mongolia', 'Paris', 'Korea', 'The Soviet Union', 'Budapest', 'Potsdam', 'Russia', 'Bulgaria', 'Letter', 'Netherlands', 'Shanghai', 'Depth', 'Israel', 'Released', 'the United States', 'Sarajevo', '1942â€“1944', 'Angola', 'Omaha Beach', 'South Africa', 'Libya', 'Denmark', 'Latvia', 'Missouri', 'West Germany', 'The United States', 'Kellaway', 'Hyde', 'San Francisco.[169]'}\n"
     ]
    }
   ],
   "source": [
    "# Extract Country Names:\n",
    "country_entities = [ent.text for ent in corrected_book.ents if ent.label_ == \"GPE\"]\n",
    "\n",
    "# Print the identified country names\n",
    "print(set(country_entities))"
   ]
  },
  {
   "cell_type": "markdown",
   "id": "9539625e-24af-4eeb-84e1-7a54ecd4f3ae",
   "metadata": {},
   "source": [
    "# Split the sentence entities from the NER object."
   ]
  },
  {
   "cell_type": "code",
   "execution_count": 11,
   "id": "28fb9daf-7e05-405d-b358-eafc52a0701f",
   "metadata": {},
   "outputs": [],
   "source": [
    "df_sentences = [] # empty shell to store results\n",
    "\n",
    "# Loop through sentences, get entity list for each sentence\n",
    "for sent in corrected_book.sents:\n",
    "    entity_list = [ent.text for ent in sent.ents]\n",
    "    df_sentences.append({\"sentence\": sent, \"entities\": entity_list})\n",
    "    \n",
    "df_sentences = pd.DataFrame(df_sentences)"
   ]
  },
  {
   "cell_type": "code",
   "execution_count": 12,
   "id": "85749f76-9490-413e-a096-30cdbdd9b0f7",
   "metadata": {},
   "outputs": [
    {
     "data": {
      "text/html": [
       "<div>\n",
       "<style scoped>\n",
       "    .dataframe tbody tr th:only-of-type {\n",
       "        vertical-align: middle;\n",
       "    }\n",
       "\n",
       "    .dataframe tbody tr th {\n",
       "        vertical-align: top;\n",
       "    }\n",
       "\n",
       "    .dataframe thead th {\n",
       "        text-align: right;\n",
       "    }\n",
       "</style>\n",
       "<table border=\"1\" class=\"dataframe\">\n",
       "  <thead>\n",
       "    <tr style=\"text-align: right;\">\n",
       "      <th></th>\n",
       "      <th>sentence</th>\n",
       "      <th>entities</th>\n",
       "    </tr>\n",
       "  </thead>\n",
       "  <tbody>\n",
       "    <tr>\n",
       "      <th>0</th>\n",
       "      <td>(Key, events, of, the, 20th, century, -, Wikip...</td>\n",
       "      <td>[the 20th century - WikipediaJump, Navigation\\...</td>\n",
       "    </tr>\n",
       "    <tr>\n",
       "      <th>1</th>\n",
       "      <td>(the, wars1.2.1Economic)</td>\n",
       "      <td>[]</td>\n",
       "    </tr>\n",
       "    <tr>\n",
       "      <th>2</th>\n",
       "      <td>(depression1.2.2The, rise, of, dictatorship1.3...</td>\n",
       "      <td>[]</td>\n",
       "    </tr>\n",
       "    <tr>\n",
       "      <th>3</th>\n",
       "      <td>(World, War, II, (, 1939â€“1945)1.3.1The, war,...</td>\n",
       "      <td>[World War II]</td>\n",
       "    </tr>\n",
       "    <tr>\n",
       "      <th>4</th>\n",
       "      <td>(days1.3.7The, war, in, the, Pacific1.3.7.1Bac...</td>\n",
       "      <td>[Pacific1.3.7.1Background1.3.8Japanese, Holoca...</td>\n",
       "    </tr>\n",
       "  </tbody>\n",
       "</table>\n",
       "</div>"
      ],
      "text/plain": [
       "                                            sentence  \\\n",
       "0  (Key, events, of, the, 20th, century, -, Wikip...   \n",
       "1                           (the, wars1.2.1Economic)   \n",
       "2  (depression1.2.2The, rise, of, dictatorship1.3...   \n",
       "3  (World, War, II, (, 1939â€“1945)1.3.1The, war,...   \n",
       "4  (days1.3.7The, war, in, the, Pacific1.3.7.1Bac...   \n",
       "\n",
       "                                            entities  \n",
       "0  [the 20th century - WikipediaJump, Navigation\\...  \n",
       "1                                                 []  \n",
       "2                                                 []  \n",
       "3                                     [World War II]  \n",
       "4  [Pacific1.3.7.1Background1.3.8Japanese, Holoca...  "
      ]
     },
     "execution_count": 12,
     "metadata": {},
     "output_type": "execute_result"
    }
   ],
   "source": [
    "df_sentences.head()"
   ]
  },
  {
   "cell_type": "markdown",
   "id": "f2a5cf9a-6a0d-4b04-9c46-aa86d2124951",
   "metadata": {},
   "source": [
    "# Filter the entities so that you end up only with the ones from your countries list."
   ]
  },
  {
   "cell_type": "code",
   "execution_count": 13,
   "id": "cc139341-1394-474e-a12e-63a25154dde4",
   "metadata": {},
   "outputs": [],
   "source": [
    "# Import country name\n",
    "\n",
    "country_df = pd.read_csv(\"Country_name.csv\", index_col = 0)"
   ]
  },
  {
   "cell_type": "code",
   "execution_count": 14,
   "id": "26f80154-dc50-4bf1-8595-65316e86d458",
   "metadata": {},
   "outputs": [
    {
     "data": {
      "text/html": [
       "<div>\n",
       "<style scoped>\n",
       "    .dataframe tbody tr th:only-of-type {\n",
       "        vertical-align: middle;\n",
       "    }\n",
       "\n",
       "    .dataframe tbody tr th {\n",
       "        vertical-align: top;\n",
       "    }\n",
       "\n",
       "    .dataframe thead th {\n",
       "        text-align: right;\n",
       "    }\n",
       "</style>\n",
       "<table border=\"1\" class=\"dataframe\">\n",
       "  <thead>\n",
       "    <tr style=\"text-align: right;\">\n",
       "      <th></th>\n",
       "      <th>Country</th>\n",
       "    </tr>\n",
       "  </thead>\n",
       "  <tbody>\n",
       "    <tr>\n",
       "      <th>0</th>\n",
       "      <td>Afghanistan</td>\n",
       "    </tr>\n",
       "    <tr>\n",
       "      <th>1</th>\n",
       "      <td>Albania</td>\n",
       "    </tr>\n",
       "    <tr>\n",
       "      <th>2</th>\n",
       "      <td>Algeria</td>\n",
       "    </tr>\n",
       "    <tr>\n",
       "      <th>3</th>\n",
       "      <td>Andorra</td>\n",
       "    </tr>\n",
       "    <tr>\n",
       "      <th>4</th>\n",
       "      <td>Angola</td>\n",
       "    </tr>\n",
       "  </tbody>\n",
       "</table>\n",
       "</div>"
      ],
      "text/plain": [
       "       Country\n",
       "0  Afghanistan\n",
       "1      Albania\n",
       "2      Algeria\n",
       "3      Andorra\n",
       "4       Angola"
      ]
     },
     "execution_count": 14,
     "metadata": {},
     "output_type": "execute_result"
    }
   ],
   "source": [
    "country_df.head()"
   ]
  },
  {
   "cell_type": "code",
   "execution_count": 15,
   "id": "e1817055-31c1-46c6-baad-3fe313326bf1",
   "metadata": {},
   "outputs": [],
   "source": [
    "# Function to filter out entities not of interest\n",
    "\n",
    "def filter_entity(ent_list, country_df):\n",
    "    return [ent for ent in ent_list \n",
    "            if ent in list(country_df['Country'])]"
   ]
  },
  {
   "cell_type": "code",
   "execution_count": 16,
   "id": "a7ef858a-9738-4b5a-9673-badb577c11fb",
   "metadata": {},
   "outputs": [
    {
     "data": {
      "text/plain": [
       "['Afghanistan']"
      ]
     },
     "execution_count": 16,
     "metadata": {},
     "output_type": "execute_result"
    }
   ],
   "source": [
    "# Check\n",
    "\n",
    "filter_entity([\"Afghanistan\", \"CF\", \"2\"], country_df)"
   ]
  },
  {
   "cell_type": "code",
   "execution_count": 17,
   "id": "b5f77b8b-482c-4d70-9897-64e4f354cb31",
   "metadata": {},
   "outputs": [],
   "source": [
    "df_sentences['country_entities'] = df_sentences['entities'].apply(lambda x: filter_entity(x, country_df))"
   ]
  },
  {
   "cell_type": "code",
   "execution_count": 18,
   "id": "1a361739-1fc6-4aad-a2dd-0c607e168f63",
   "metadata": {},
   "outputs": [
    {
     "data": {
      "text/plain": [
       "0                              []\n",
       "1                              []\n",
       "2                              []\n",
       "3                              []\n",
       "4                              []\n",
       "5                              []\n",
       "6                              []\n",
       "7                              []\n",
       "8                              []\n",
       "9                              []\n",
       "10                             []\n",
       "11                             []\n",
       "12                             []\n",
       "13                             []\n",
       "14                             []\n",
       "15                             []\n",
       "16                             []\n",
       "17               [France, Russia]\n",
       "18    [Germany, Bulgaria, Russia]\n",
       "19              [Germany, Russia]\n",
       "20                      [Germany]\n",
       "21                             []\n",
       "22                      [Germany]\n",
       "23                             []\n",
       "24                             []\n",
       "25                             []\n",
       "26                             []\n",
       "27                             []\n",
       "28                      [Germany]\n",
       "29                             []\n",
       "30                             []\n",
       "31                             []\n",
       "32                             []\n",
       "33                             []\n",
       "34                             []\n",
       "35                             []\n",
       "36                             []\n",
       "37                             []\n",
       "38                             []\n",
       "39                             []\n",
       "40                             []\n",
       "41                             []\n",
       "42                             []\n",
       "43                             []\n",
       "44                             []\n",
       "45               [Germany, Italy]\n",
       "46             [Germany, Germany]\n",
       "47                      [Germany]\n",
       "48                             []\n",
       "49                      [Germany]\n",
       "Name: country_entities, dtype: object"
      ]
     },
     "execution_count": 18,
     "metadata": {},
     "output_type": "execute_result"
    }
   ],
   "source": [
    "df_sentences['country_entities'].head(50)"
   ]
  },
  {
   "cell_type": "code",
   "execution_count": 19,
   "id": "c6bee20b-fe19-4fe3-9f91-24cd9ce2ae2d",
   "metadata": {},
   "outputs": [],
   "source": [
    "# Filter out sentences that don't have any character entities\n",
    "\n",
    "df_sentences_filtered = df_sentences[df_sentences['country_entities'].map(len) > 0]"
   ]
  },
  {
   "cell_type": "code",
   "execution_count": 20,
   "id": "ba035010-fc6d-4513-873a-b0224a28025d",
   "metadata": {},
   "outputs": [
    {
     "data": {
      "text/html": [
       "<div>\n",
       "<style scoped>\n",
       "    .dataframe tbody tr th:only-of-type {\n",
       "        vertical-align: middle;\n",
       "    }\n",
       "\n",
       "    .dataframe tbody tr th {\n",
       "        vertical-align: top;\n",
       "    }\n",
       "\n",
       "    .dataframe thead th {\n",
       "        text-align: right;\n",
       "    }\n",
       "</style>\n",
       "<table border=\"1\" class=\"dataframe\">\n",
       "  <thead>\n",
       "    <tr style=\"text-align: right;\">\n",
       "      <th></th>\n",
       "      <th>sentence</th>\n",
       "      <th>entities</th>\n",
       "      <th>country_entities</th>\n",
       "    </tr>\n",
       "  </thead>\n",
       "  <tbody>\n",
       "    <tr>\n",
       "      <th>843</th>\n",
       "      <td>(\", The, forgotten, violence, that, helped, In...</td>\n",
       "      <td>[India]</td>\n",
       "      <td>[India]</td>\n",
       "    </tr>\n",
       "    <tr>\n",
       "      <th>846</th>\n",
       "      <td>(\", Indian, Independence, Day, :, everything, ...</td>\n",
       "      <td>[Indian Independence Day, Partition, India, Pa...</td>\n",
       "      <td>[India, Pakistan]</td>\n",
       "    </tr>\n",
       "    <tr>\n",
       "      <th>852</th>\n",
       "      <td>(Retrieved, 2018, -, 12, -, 18.^, \", The, Phil...</td>\n",
       "      <td>[2018-12-18.^, Philippines, 1898â€“1946, Unite...</td>\n",
       "      <td>[Philippines, United States]</td>\n",
       "    </tr>\n",
       "    <tr>\n",
       "      <th>900</th>\n",
       "      <td>(The, Moldovans, :, Romania, ,, Russia, ,, and...</td>\n",
       "      <td>[Moldovans, Romania, Russia, the Politics of C...</td>\n",
       "      <td>[Romania, Russia]</td>\n",
       "    </tr>\n",
       "    <tr>\n",
       "      <th>909</th>\n",
       "      <td>(Now, ,, North, Korea, may, be, the, one, true...</td>\n",
       "      <td>[North Korea, one]</td>\n",
       "      <td>[North Korea]</td>\n",
       "    </tr>\n",
       "    <tr>\n",
       "      <th>944</th>\n",
       "      <td>(\", Selling, \", Operation, Passage, to, Freedo...</td>\n",
       "      <td>[Thomas Dooley, the Religious Overtones of Ear...</td>\n",
       "      <td>[Vietnam]</td>\n",
       "    </tr>\n",
       "    <tr>\n",
       "      <th>967</th>\n",
       "      <td>(\", Stuck, in, Endless, Preliminaries, :, Viet...</td>\n",
       "      <td>[Vietnam, the Battle of the Paris Peace Table,...</td>\n",
       "      <td>[Vietnam]</td>\n",
       "    </tr>\n",
       "    <tr>\n",
       "      <th>1142</th>\n",
       "      <td>(\", Anti, -, American, Behavior, in, the, Midd...</td>\n",
       "      <td>[Anti-American, the Middle East, Lebanon]</td>\n",
       "      <td>[Lebanon]</td>\n",
       "    </tr>\n",
       "    <tr>\n",
       "      <th>1145</th>\n",
       "      <td>(The, Rise, of, China, and, India, :, A, New, ...</td>\n",
       "      <td>[China, India, New Asian Drama]</td>\n",
       "      <td>[China, India]</td>\n",
       "    </tr>\n",
       "    <tr>\n",
       "      <th>1146</th>\n",
       "      <td>(Singapore, :, World, Scientific, .)</td>\n",
       "      <td>[Singapore, World Scientific]</td>\n",
       "      <td>[Singapore]</td>\n",
       "    </tr>\n",
       "  </tbody>\n",
       "</table>\n",
       "</div>"
      ],
      "text/plain": [
       "                                               sentence  \\\n",
       "843   (\", The, forgotten, violence, that, helped, In...   \n",
       "846   (\", Indian, Independence, Day, :, everything, ...   \n",
       "852   (Retrieved, 2018, -, 12, -, 18.^, \", The, Phil...   \n",
       "900   (The, Moldovans, :, Romania, ,, Russia, ,, and...   \n",
       "909   (Now, ,, North, Korea, may, be, the, one, true...   \n",
       "944   (\", Selling, \", Operation, Passage, to, Freedo...   \n",
       "967   (\", Stuck, in, Endless, Preliminaries, :, Viet...   \n",
       "1142  (\", Anti, -, American, Behavior, in, the, Midd...   \n",
       "1145  (The, Rise, of, China, and, India, :, A, New, ...   \n",
       "1146               (Singapore, :, World, Scientific, .)   \n",
       "\n",
       "                                               entities  \\\n",
       "843                                             [India]   \n",
       "846   [Indian Independence Day, Partition, India, Pa...   \n",
       "852   [2018-12-18.^, Philippines, 1898â€“1946, Unite...   \n",
       "900   [Moldovans, Romania, Russia, the Politics of C...   \n",
       "909                                  [North Korea, one]   \n",
       "944   [Thomas Dooley, the Religious Overtones of Ear...   \n",
       "967   [Vietnam, the Battle of the Paris Peace Table,...   \n",
       "1142          [Anti-American, the Middle East, Lebanon]   \n",
       "1145                    [China, India, New Asian Drama]   \n",
       "1146                      [Singapore, World Scientific]   \n",
       "\n",
       "                  country_entities  \n",
       "843                        [India]  \n",
       "846              [India, Pakistan]  \n",
       "852   [Philippines, United States]  \n",
       "900              [Romania, Russia]  \n",
       "909                  [North Korea]  \n",
       "944                      [Vietnam]  \n",
       "967                      [Vietnam]  \n",
       "1142                     [Lebanon]  \n",
       "1145                [China, India]  \n",
       "1146                   [Singapore]  "
      ]
     },
     "execution_count": 20,
     "metadata": {},
     "output_type": "execute_result"
    }
   ],
   "source": [
    "df_sentences_filtered.tail(10)"
   ]
  },
  {
   "cell_type": "markdown",
   "id": "dd2dcffd-f9b2-48bd-bb6e-0f82c41aa610",
   "metadata": {},
   "source": [
    "# Create the relationships dataframe."
   ]
  },
  {
   "cell_type": "code",
   "execution_count": 22,
   "id": "69b2cc17-ee36-4960-b7a8-f5639faebf23",
   "metadata": {},
   "outputs": [],
   "source": [
    "# Defining relationships \n",
    "\n",
    "# window size = 5 : this defines how many sentences will be looked at simultaneously \n",
    "relationships = [] # create an empty list\n",
    "\n",
    "for i in range(df_sentences_filtered.index[-1]):\n",
    "    end_i = min(i+5, df_sentences_filtered.index[-1])\n",
    "    char_list = sum((df_sentences_filtered.loc[i: end_i].country_entities), [])\n",
    "    \n",
    "    # Remove duplicated characters that are next to each other\n",
    "    char_unique = [char_list[i] for i in range(len(char_list)) \n",
    "                   if (i==0) or char_list[i] != char_list[i-1]]\n",
    "    \n",
    "    if len(char_unique) > 1:\n",
    "        for idx, a in enumerate(char_unique[:-1]):\n",
    "            b = char_unique[idx + 1]\n",
    "            relationships.append({\"source\": a, \"target\": b})"
   ]
  },
  {
   "cell_type": "code",
   "execution_count": 23,
   "id": "2779d9eb-4c41-478e-893a-76a45a258074",
   "metadata": {},
   "outputs": [],
   "source": [
    "relationship_df = pd.DataFrame(relationships)"
   ]
  },
  {
   "cell_type": "code",
   "execution_count": 24,
   "id": "12e270f9-ffa0-4435-a30b-c5ec1d793cbc",
   "metadata": {},
   "outputs": [
    {
     "data": {
      "text/html": [
       "<div>\n",
       "<style scoped>\n",
       "    .dataframe tbody tr th:only-of-type {\n",
       "        vertical-align: middle;\n",
       "    }\n",
       "\n",
       "    .dataframe tbody tr th {\n",
       "        vertical-align: top;\n",
       "    }\n",
       "\n",
       "    .dataframe thead th {\n",
       "        text-align: right;\n",
       "    }\n",
       "</style>\n",
       "<table border=\"1\" class=\"dataframe\">\n",
       "  <thead>\n",
       "    <tr style=\"text-align: right;\">\n",
       "      <th></th>\n",
       "      <th>source</th>\n",
       "      <th>target</th>\n",
       "    </tr>\n",
       "  </thead>\n",
       "  <tbody>\n",
       "    <tr>\n",
       "      <th>0</th>\n",
       "      <td>France</td>\n",
       "      <td>Russia</td>\n",
       "    </tr>\n",
       "    <tr>\n",
       "      <th>1</th>\n",
       "      <td>France</td>\n",
       "      <td>Russia</td>\n",
       "    </tr>\n",
       "    <tr>\n",
       "      <th>2</th>\n",
       "      <td>Russia</td>\n",
       "      <td>Germany</td>\n",
       "    </tr>\n",
       "    <tr>\n",
       "      <th>3</th>\n",
       "      <td>Germany</td>\n",
       "      <td>Bulgaria</td>\n",
       "    </tr>\n",
       "    <tr>\n",
       "      <th>4</th>\n",
       "      <td>Bulgaria</td>\n",
       "      <td>Russia</td>\n",
       "    </tr>\n",
       "    <tr>\n",
       "      <th>...</th>\n",
       "      <td>...</td>\n",
       "      <td>...</td>\n",
       "    </tr>\n",
       "    <tr>\n",
       "      <th>743</th>\n",
       "      <td>India</td>\n",
       "      <td>Singapore</td>\n",
       "    </tr>\n",
       "    <tr>\n",
       "      <th>744</th>\n",
       "      <td>China</td>\n",
       "      <td>India</td>\n",
       "    </tr>\n",
       "    <tr>\n",
       "      <th>745</th>\n",
       "      <td>India</td>\n",
       "      <td>Singapore</td>\n",
       "    </tr>\n",
       "    <tr>\n",
       "      <th>746</th>\n",
       "      <td>China</td>\n",
       "      <td>India</td>\n",
       "    </tr>\n",
       "    <tr>\n",
       "      <th>747</th>\n",
       "      <td>India</td>\n",
       "      <td>Singapore</td>\n",
       "    </tr>\n",
       "  </tbody>\n",
       "</table>\n",
       "<p>748 rows × 2 columns</p>\n",
       "</div>"
      ],
      "text/plain": [
       "       source     target\n",
       "0      France     Russia\n",
       "1      France     Russia\n",
       "2      Russia    Germany\n",
       "3     Germany   Bulgaria\n",
       "4    Bulgaria     Russia\n",
       "..        ...        ...\n",
       "743     India  Singapore\n",
       "744     China      India\n",
       "745     India  Singapore\n",
       "746     China      India\n",
       "747     India  Singapore\n",
       "\n",
       "[748 rows x 2 columns]"
      ]
     },
     "execution_count": 24,
     "metadata": {},
     "output_type": "execute_result"
    }
   ],
   "source": [
    "relationship_df"
   ]
  },
  {
   "cell_type": "code",
   "execution_count": 26,
   "id": "990dd1f9-1d55-4225-b2dc-7aa03bb76d53",
   "metadata": {},
   "outputs": [],
   "source": [
    "# Summarize the interactions\n",
    "\n",
    "relationship_df[\"value\"] = 1\n",
    "relationship_df = relationship_df.groupby([\"source\",\"target\"], sort=False, as_index=False).sum()"
   ]
  },
  {
   "cell_type": "code",
   "execution_count": 27,
   "id": "f7c9af8a-4213-450f-b9b9-37da8d37af80",
   "metadata": {},
   "outputs": [
    {
     "data": {
      "text/html": [
       "<div>\n",
       "<style scoped>\n",
       "    .dataframe tbody tr th:only-of-type {\n",
       "        vertical-align: middle;\n",
       "    }\n",
       "\n",
       "    .dataframe tbody tr th {\n",
       "        vertical-align: top;\n",
       "    }\n",
       "\n",
       "    .dataframe thead th {\n",
       "        text-align: right;\n",
       "    }\n",
       "</style>\n",
       "<table border=\"1\" class=\"dataframe\">\n",
       "  <thead>\n",
       "    <tr style=\"text-align: right;\">\n",
       "      <th></th>\n",
       "      <th>source</th>\n",
       "      <th>target</th>\n",
       "      <th>value</th>\n",
       "    </tr>\n",
       "  </thead>\n",
       "  <tbody>\n",
       "    <tr>\n",
       "      <th>0</th>\n",
       "      <td>France</td>\n",
       "      <td>Russia</td>\n",
       "      <td>12</td>\n",
       "    </tr>\n",
       "    <tr>\n",
       "      <th>1</th>\n",
       "      <td>Germany</td>\n",
       "      <td>Russia</td>\n",
       "      <td>26</td>\n",
       "    </tr>\n",
       "    <tr>\n",
       "      <th>2</th>\n",
       "      <td>Bulgaria</td>\n",
       "      <td>Germany</td>\n",
       "      <td>6</td>\n",
       "    </tr>\n",
       "    <tr>\n",
       "      <th>3</th>\n",
       "      <td>Bulgaria</td>\n",
       "      <td>Russia</td>\n",
       "      <td>6</td>\n",
       "    </tr>\n",
       "    <tr>\n",
       "      <th>4</th>\n",
       "      <td>Germany</td>\n",
       "      <td>Italy</td>\n",
       "      <td>26</td>\n",
       "    </tr>\n",
       "    <tr>\n",
       "      <th>...</th>\n",
       "      <td>...</td>\n",
       "      <td>...</td>\n",
       "      <td>...</td>\n",
       "    </tr>\n",
       "    <tr>\n",
       "      <th>89</th>\n",
       "      <td>Germany</td>\n",
       "      <td>United States</td>\n",
       "      <td>1</td>\n",
       "    </tr>\n",
       "    <tr>\n",
       "      <th>90</th>\n",
       "      <td>Philippines</td>\n",
       "      <td>United States</td>\n",
       "      <td>6</td>\n",
       "    </tr>\n",
       "    <tr>\n",
       "      <th>91</th>\n",
       "      <td>Romania</td>\n",
       "      <td>Russia</td>\n",
       "      <td>6</td>\n",
       "    </tr>\n",
       "    <tr>\n",
       "      <th>92</th>\n",
       "      <td>China</td>\n",
       "      <td>Lebanon</td>\n",
       "      <td>3</td>\n",
       "    </tr>\n",
       "    <tr>\n",
       "      <th>93</th>\n",
       "      <td>India</td>\n",
       "      <td>Singapore</td>\n",
       "      <td>5</td>\n",
       "    </tr>\n",
       "  </tbody>\n",
       "</table>\n",
       "<p>94 rows × 3 columns</p>\n",
       "</div>"
      ],
      "text/plain": [
       "         source         target  value\n",
       "0        France         Russia     12\n",
       "1       Germany         Russia     26\n",
       "2      Bulgaria        Germany      6\n",
       "3      Bulgaria         Russia      6\n",
       "4       Germany          Italy     26\n",
       "..          ...            ...    ...\n",
       "89      Germany  United States      1\n",
       "90  Philippines  United States      6\n",
       "91      Romania         Russia      6\n",
       "92        China        Lebanon      3\n",
       "93        India      Singapore      5\n",
       "\n",
       "[94 rows x 3 columns]"
      ]
     },
     "execution_count": 27,
     "metadata": {},
     "output_type": "execute_result"
    }
   ],
   "source": [
    "relationship_df"
   ]
  },
  {
   "cell_type": "markdown",
   "id": "9fbe6e56-4014-4e9d-81d5-8d435ac0cd79",
   "metadata": {},
   "source": [
    "# Save and export your dataframe. "
   ]
  },
  {
   "cell_type": "code",
   "execution_count": 28,
   "id": "7a5be994-d32a-42e5-974b-54f95a83a034",
   "metadata": {},
   "outputs": [],
   "source": [
    "relationship_df.to_csv('country_relationship.csv')"
   ]
  },
  {
   "cell_type": "code",
   "execution_count": null,
   "id": "dcb77d68-3432-474f-a77f-fa17b06f3113",
   "metadata": {},
   "outputs": [],
   "source": []
  }
 ],
 "metadata": {
  "kernelspec": {
   "display_name": "Python [conda env:20th_century]",
   "language": "python",
   "name": "conda-env-20th_century-py"
  },
  "language_info": {
   "codemirror_mode": {
    "name": "ipython",
    "version": 3
   },
   "file_extension": ".py",
   "mimetype": "text/x-python",
   "name": "python",
   "nbconvert_exporter": "python",
   "pygments_lexer": "ipython3",
   "version": "3.12.4"
  }
 },
 "nbformat": 4,
 "nbformat_minor": 5
}
